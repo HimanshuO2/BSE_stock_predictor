{
 "cells": [
  {
   "cell_type": "markdown",
   "metadata": {
    "id": "FroIr-_inm-V"
   },
   "source": [
    "# BSE SENSEX Stock Price Prediction Model\n",
    "---\n",
    "\n",
    "## **Introduction**\n",
    "This project implements an advanced stock price prediction model for the BSE SENSEX index, combining historical price data with sentiment analysis from news headlines. The model leverages a hybrid approach, integrating traditional technical indicators, NLP techniques, and machine learning algorithms to forecast future stock prices.\n",
    "\n",
    "### **Key Features**\n",
    "- **Data Integration**: Merging BSE SENSEX historical data (2001-2020) with Indian news headlines.\n",
    "- **Sentiment Analysis**: Using VADER sentiment analysis with custom financial lexicon enhancements.\n",
    "- **Feature Engineering**: Creating technical indicators like moving averages, RSI, Bollinger Bands, etc.\n",
    "- **Hybrid Model Architecture**: Combining linear regression and LSTM networks for accurate predictions.\n",
    "- **Performance Evaluation**: Metrics like RMSE, MAE, and R² to assess accuracy.\n",
    "\n",
    "\n",
    "## **About the dataset**\n",
    "The news dataset **Times of India News Headlines** is a persistent historical archive of noteable events in the Indian subcontinent from start-2001 to end-2020, recorded in realtime by the journalists of India. It contains approximately 3.4 million events published by Times of India.\n",
    "\n",
    "Times Group as a news agency, reaches out a very wide audience across Asia and drawfs every other agency in the quantity of english articles published per day. The data can be accessed at Times of India News Headlines.\n",
    "\n",
    "Due to the heavy daily volume over multiple years, this data offers a deep insight into Indian society, its priorities, events, issues and talking points and how they have unfolded over time. It is possible to chop this dataset into a smaller piece for a more focused analysis, based on one or more facets. \n",
    "\n",
    "---\n"
   ]
  },
  {
   "cell_type": "markdown",
   "metadata": {
    "id": "e6l-8P8Pntc7"
   },
   "source": [
    "## **Setting Up Environment**\n",
    "---\n",
    "### Library Overview\n",
    "We use the following libraries:\n",
    "- **Data Manipulation**:\n",
    "  - `pandas` and `numpy`: For data processing and numerical operations.\n",
    "  - `yfinance`: To download BSE SENSEX historical data.\n",
    "\n",
    "- **Natural Language Processing**:\n",
    "  - `nltk` with `SentimentIntensityAnalyzer`: For analyzing sentiment in news headlines.\n",
    "\n",
    "- **Machine Learning & Deep Learning**:\n",
    "  - `scikit-learn`: For preprocessing and linear regression.\n",
    "  - `tensorflow/keras`: For building and training LSTM networks.\n",
    "\n",
    "- **Visualization**:\n",
    "  - `matplotlib`: For visualizing data, training progress, and predictions.\n",
    "---"
   ]
  },
  {
   "cell_type": "code",
   "execution_count": 141,
   "metadata": {
    "colab": {
     "base_uri": "https://localhost:8080/"
    },
    "id": "ptAK8oQTnvwj",
    "outputId": "bc4d5353-a72d-4c29-b981-8722f57c06a2"
   },
   "outputs": [
    {
     "name": "stdout",
     "output_type": "stream",
     "text": [
      "Libraries imported successfully!\n"
     ]
    }
   ],
   "source": [
    "# Import necessary libraries\n",
    "import warnings\n",
    "warnings.filterwarnings('ignore')\n",
    "\n",
    "import pandas as pd\n",
    "import numpy as np\n",
    "import yfinance as yf\n",
    "import matplotlib.pyplot as plt\n",
    "from nltk.sentiment import SentimentIntensityAnalyzer\n",
    "from sklearn.preprocessing import MinMaxScaler\n",
    "from sklearn.linear_model import LinearRegression\n",
    "from sklearn import metrics\n",
    "import tensorflow as tf\n",
    "from tensorflow.keras.models import Sequential\n",
    "from tensorflow.keras.layers import Dense, LSTM, Dropout, Bidirectional\n",
    "from tensorflow.keras.callbacks import EarlyStopping, ReduceLROnPlateau\n",
    "\n",
    "print(\"Libraries imported successfully!\")"
   ]
  },
  {
   "cell_type": "markdown",
   "metadata": {
    "id": "XOBXPH4DnzCZ"
   },
   "source": [
    "## **Data Loading**\n",
    "---\n",
    "### Overview\n",
    "In this step, we load two datasets:\n",
    "1. **BSE SENSEX Historical Data**: Fetched using `yfinance` for the period from January 2001 to December 2020.\n",
    "2. **Indian News Headlines Dataset**: Contains news headlines related to Indian markets.\n",
    "\n",
    "We will inspect both datasets to understand their structure and check for missing values.\n",
    "\n",
    "---"
   ]
  },
  {
   "cell_type": "code",
   "execution_count": 142,
   "metadata": {
    "colab": {
     "base_uri": "https://localhost:8080/"
    },
    "id": "-bWZLl2pn5Mp",
    "outputId": "f6aae9c4-0c31-467f-c434-a1339136dcd6"
   },
   "outputs": [
    {
     "name": "stdout",
     "output_type": "stream",
     "text": [
      "Loading datasets...\n"
     ]
    },
    {
     "name": "stderr",
     "output_type": "stream",
     "text": [
      "[*********************100%***********************]  1 of 1 completed"
     ]
    },
    {
     "name": "stdout",
     "output_type": "stream",
     "text": [
      "\n",
      "--- News Headlines Dataset Info ---\n",
      "<class 'pandas.core.frame.DataFrame'>\n",
      "RangeIndex: 3650970 entries, 0 to 3650969\n",
      "Data columns (total 3 columns):\n",
      " #   Column             Dtype \n",
      "---  ------             ----- \n",
      " 0   publish_date       int64 \n",
      " 1   headline_category  object\n",
      " 2   headline_text      object\n",
      "dtypes: int64(1), object(2)\n",
      "memory usage: 83.6+ MB\n",
      "None\n",
      "\n",
      "--- News Headlines Dataset Head ---\n",
      "   publish_date headline_category  \\\n",
      "0      20010102           unknown   \n",
      "1      20010102           unknown   \n",
      "2      20010102           unknown   \n",
      "3      20010102           unknown   \n",
      "4      20010102           unknown   \n",
      "\n",
      "                                       headline_text  \n",
      "0  Status quo will not be disturbed at Ayodhya; s...  \n",
      "1                Fissures in Hurriyat over Pak visit  \n",
      "2              America's unwanted heading for India?  \n",
      "3                 For bigwigs; it is destination Goa  \n",
      "4               Extra buses to clear tourist traffic  \n",
      "\n",
      "--- BSE SENSEX Dataset Info ---\n",
      "<class 'pandas.core.frame.DataFrame'>\n",
      "DatetimeIndex: 4926 entries, 2001-01-02 to 2020-12-30\n",
      "Data columns (total 7 columns):\n",
      " #   Column                  Non-Null Count  Dtype  \n",
      "---  ------                  --------------  -----  \n",
      " 0   (Close, ^BSESN)         4926 non-null   float64\n",
      " 1   (Dividends, ^BSESN)     4926 non-null   float64\n",
      " 2   (High, ^BSESN)          4926 non-null   float64\n",
      " 3   (Low, ^BSESN)           4926 non-null   float64\n",
      " 4   (Open, ^BSESN)          4926 non-null   float64\n",
      " 5   (Stock Splits, ^BSESN)  4926 non-null   float64\n",
      " 6   (Volume, ^BSESN)        4926 non-null   int64  \n",
      "dtypes: float64(6), int64(1)\n",
      "memory usage: 307.9 KB\n",
      "None\n",
      "\n",
      "--- BSE SENSEX Dataset Head ---\n",
      "Price             Close Dividends         High          Low         Open  \\\n",
      "Ticker           ^BSESN    ^BSESN       ^BSESN       ^BSESN       ^BSESN   \n",
      "Date                                                                       \n",
      "2001-01-02  4018.879883       0.0  4028.570068  3929.370117  3953.219971   \n",
      "2001-01-03  4060.020020       0.0  4067.659912  3977.580078  3977.580078   \n",
      "2001-01-04  4115.370117       0.0  4180.970215  4109.549805  4180.970215   \n",
      "2001-01-05  4183.729980       0.0  4195.009766  4115.350098  4116.339844   \n",
      "2001-01-08  4120.430176       0.0  4206.720215  4101.529785  4164.759766   \n",
      "\n",
      "Price      Stock Splits Volume  \n",
      "Ticker           ^BSESN ^BSESN  \n",
      "Date                            \n",
      "2001-01-02          0.0      0  \n",
      "2001-01-03          0.0      0  \n",
      "2001-01-04          0.0      0  \n",
      "2001-01-05          0.0      0  \n",
      "2001-01-08          0.0      0  \n"
     ]
    },
    {
     "name": "stderr",
     "output_type": "stream",
     "text": [
      "\n"
     ]
    }
   ],
   "source": [
    "# Load datasets\n",
    "print(\"Loading datasets...\")\n",
    "news_headlines = pd.read_csv(\"india-news-headlines.csv\")\n",
    "\n",
    "# Download BSE SENSEX data\n",
    "bse_data = yf.download('^BSESN', start='2001-01-02', end='2020-12-31', actions=True)\n",
    "\n",
    "# Inspect datasets\n",
    "print(\"\\n--- News Headlines Dataset Info ---\")\n",
    "print(news_headlines.info())\n",
    "print(\"\\n--- News Headlines Dataset Head ---\")\n",
    "print(news_headlines.head())\n",
    "\n",
    "print(\"\\n--- BSE SENSEX Dataset Info ---\")\n",
    "print(bse_data.info())\n",
    "print(\"\\n--- BSE SENSEX Dataset Head ---\")\n",
    "print(bse_data.head())"
   ]
  },
  {
   "cell_type": "markdown",
   "metadata": {
    "id": "JAP4ukLUoA3x"
   },
   "source": [
    "## **Preprocessing Stock Data**\n",
    "---\n",
    "### Overview\n",
    "We clean the BSE SENSEX data by:\n",
    "- Removing duplicate entries.\n",
    "- Normalizing dates to ensure consistency.\n",
    "- Retaining only relevant columns (`Close`, `Open`, `High`, `Low`, `Volume`).\n",
    "- Handling missing values in the `Volume` column using forward fill (`method='ffill`).\n",
    "\n",
    "---"
   ]
  },
  {
   "cell_type": "code",
   "execution_count": 143,
   "metadata": {
    "colab": {
     "base_uri": "https://localhost:8080/"
    },
    "id": "iWU7CK5goCQx",
    "outputId": "8f701805-8005-488d-8946-1623f9b6aa63"
   },
   "outputs": [
    {
     "name": "stdout",
     "output_type": "stream",
     "text": [
      "\n",
      "Preprocessing BSE SENSEX data...\n",
      "\n",
      "--- Preprocessed BSE SENSEX Data Head ---\n",
      "Price             Close         Open         High          Low Volume\n",
      "Ticker           ^BSESN       ^BSESN       ^BSESN       ^BSESN ^BSESN\n",
      "Date                                                                 \n",
      "2001-01-02  4018.879883  3953.219971  4028.570068  3929.370117    NaN\n",
      "2001-01-03  4060.020020  3977.580078  4067.659912  3977.580078    NaN\n",
      "2001-01-04  4115.370117  4180.970215  4180.970215  4109.549805    NaN\n",
      "2001-01-05  4183.729980  4116.339844  4195.009766  4115.350098    NaN\n",
      "2001-01-08  4120.430176  4164.759766  4206.720215  4101.529785    NaN\n"
     ]
    }
   ],
   "source": [
    "# Preprocess stock data\n",
    "print(\"\\nPreprocessing BSE SENSEX data...\")\n",
    "bse_data.reset_index(inplace=True)\n",
    "bse_data = bse_data.drop_duplicates()\n",
    "bse_data['Date'] = pd.to_datetime(bse_data['Date']).dt.normalize()\n",
    "bse_data = bse_data[['Date', 'Close', 'Open', 'High', 'Low', 'Volume']]\n",
    "bse_data.set_index('Date', inplace=True)\n",
    "\n",
    "# Handle missing values in Volume column\n",
    "bse_data['Volume'] = bse_data['Volume'].replace(0, np.nan).fillna(method='ffill')\n",
    "\n",
    "\n",
    "print(\"\\n--- Preprocessed BSE SENSEX Data Head ---\")\n",
    "print(bse_data.head())"
   ]
  },
  {
   "cell_type": "markdown",
   "metadata": {
    "id": "T1VXT_L2ohUO"
   },
   "source": [
    "## **Preprocessing News Headlines**\n",
    "---\n",
    "### Overview\n",
    "We clean the news headlines dataset by:\n",
    "- Removing duplicate entries.\n",
    "- Normalizing dates to match the format of the stock data.\n",
    "- Grouping headlines by date and concatenating them into a single string per day.\n",
    "---"
   ]
  },
  {
   "cell_type": "code",
   "execution_count": 144,
   "metadata": {
    "colab": {
     "base_uri": "https://localhost:8080/"
    },
    "id": "djdZg-fPonpl",
    "outputId": "15d24452-b161-44a2-fc89-8ffaa68cbbe4"
   },
   "outputs": [
    {
     "name": "stdout",
     "output_type": "stream",
     "text": [
      "\n",
      "Preprocessing news headlines...\n"
     ]
    },
    {
     "name": "stdout",
     "output_type": "stream",
     "text": [
      "\n",
      "--- Preprocessed News Headlines ---\n",
      "publish_date\n",
      "2001-01-02    Status quo will not be disturbed at Ayodhya; s...\n",
      "2001-01-03    Powerless north India gropes in the dark Think...\n",
      "2001-01-04    The string that pulled Stephen Hawking to Indi...\n",
      "2001-01-05    Light combat craft takes India into club class...\n",
      "2001-01-06    Light combat craft takes India into club class...\n",
      "Name: headline_text, dtype: object\n"
     ]
    }
   ],
   "source": [
    "# Preprocess news headlines\n",
    "print(\"\\nPreprocessing news headlines...\")\n",
    "news_headlines = news_headlines.drop_duplicates().reset_index()\n",
    "news_headlines['publish_date'] = pd.to_datetime(\n",
    "    news_headlines['publish_date'], format='%Y%m%d', errors='coerce'\n",
    ").dt.normalize()\n",
    "news_headlines = news_headlines.groupby('publish_date')['headline_text'].agg(' '.join)\n",
    "\n",
    "\n",
    "print(\"\\n--- Preprocessed News Headlines ---\")\n",
    "print(news_headlines.head())\n"
   ]
  },
  {
   "cell_type": "markdown",
   "metadata": {
    "id": "_F3fWMEXotff"
   },
   "source": [
    "## **Merging Datasets**\n",
    "---\n",
    "### Overview\n",
    "Finally, we merge the stock data and news headlines on their respective date columns. Rows with missing values after merging are dropped.\n",
    "\n",
    "---"
   ]
  },
  {
   "cell_type": "code",
   "execution_count": 145,
   "metadata": {
    "colab": {
     "base_uri": "https://localhost:8080/"
    },
    "id": "tUbuFahaoyGo",
    "outputId": "6f743b11-f3d5-4b4e-de6d-cef89cbd6b8e"
   },
   "outputs": [
    {
     "name": "stdout",
     "output_type": "stream",
     "text": [
      "\n",
      "Merging datasets...\n",
      "\n",
      "Final dataset shape: (4298, 6)\n",
      "\n",
      "--- Final Dataset Info ---\n",
      "<class 'pandas.core.frame.DataFrame'>\n",
      "DatetimeIndex: 4298 entries, 2003-07-14 to 2020-12-30\n",
      "Data columns (total 6 columns):\n",
      " #   Column         Non-Null Count  Dtype  \n",
      "---  ------         --------------  -----  \n",
      " 0   Close          4298 non-null   float64\n",
      " 1   Open           4298 non-null   float64\n",
      " 2   High           4298 non-null   float64\n",
      " 3   Low            4298 non-null   float64\n",
      " 4   Volume         4298 non-null   float64\n",
      " 5   headline_text  4298 non-null   object \n",
      "dtypes: float64(5), object(1)\n",
      "memory usage: 235.0+ KB\n",
      "None\n",
      "\n",
      "--- Final Dataset Head ---\n",
      "                  Close         Open         High          Low   Volume  \\\n",
      "2003-07-14  3720.750000  3704.629883  3726.560059  3704.629883  21200.0   \n",
      "2003-07-15  3686.340088  3719.169922  3733.879883  3657.179932  22800.0   \n",
      "2003-07-16  3721.649902  3702.139893  3729.020020  3662.699951  18400.0   \n",
      "2003-07-17  3668.909912  3728.840088  3750.000000  3660.340088  22000.0   \n",
      "2003-07-18  3647.580078  3651.389893  3684.229980  3625.729980  22000.0   \n",
      "\n",
      "                                                headline_text  \n",
      "2003-07-14  Hot enough or fast enough? Fat can be addictiv...  \n",
      "2003-07-15  New boat building yard to be set up in Kochi N...  \n",
      "2003-07-16  MD's fake diploma finally gets him India to se...  \n",
      "2003-07-17  Indians are unwilling to swipe their cards Sou...  \n",
      "2003-07-18  Airtel receives Govt nod for additional spectr...  \n"
     ]
    }
   ],
   "source": [
    "# Merge datasets on Date column\n",
    "print(\"\\nMerging datasets...\")\n",
    "stock_data = pd.concat([bse_data, news_headlines], axis=1).dropna()\n",
    "\n",
    "# Fixing multi-index columns\n",
    "if any(isinstance(col, tuple) for col in stock_data.columns):\n",
    "    stock_data.columns = [col[0] if isinstance(col, tuple) else col for col in stock_data.columns]\n",
    "\n",
    "print(f\"\\nFinal dataset shape: {stock_data.shape}\")\n",
    "print(\"\\n--- Final Dataset Info ---\")\n",
    "print(stock_data.info())\n",
    "print(\"\\n--- Final Dataset Head ---\")\n",
    "print(stock_data.head())"
   ]
  },
  {
   "cell_type": "markdown",
   "metadata": {
    "id": "32IYjO5JpHNh"
   },
   "source": [
    "# **Sentiment Analysis**\n",
    "\n",
    "---\n",
    "\n",
    "## **Overview**\n",
    "\n",
    "In this step, we analyze the sentiment of news headlines related to the stock market using the VADER (Valence Aware Dictionary and sEntiment Reasoner) sentiment analysis tool. Sentiment analysis helps quantify the emotional tone of news headlines, which can influence stock price movements.\n",
    "\n",
    "### **Goals**\n",
    "1. Enhance VADER's lexicon with financial terms for improved accuracy.\n",
    "2. Compute sentiment scores for each headline.\n",
    "3. Normalize sentiment scores to a range of 0 to 1.\n",
    "4. Generate rolling averages of sentiment to capture short-term trends.\n",
    "5. Create binary sentiment indicators (e.g., bullish or very bullish).\n",
    "\n",
    "---\n"
   ]
  },
  {
   "cell_type": "markdown",
   "metadata": {
    "id": "Y3uT1yyNpM6e"
   },
   "source": [
    "## Enhancing VADER Lexicon\n",
    "\n",
    "VADER is a pre-trained sentiment analysis tool that assigns sentiment scores to text. To improve its accuracy for financial data, we add domain-specific terms like \"bullish,\" \"bearish,\" \"surge,\" and \"crash\" with custom weights.\n"
   ]
  },
  {
   "cell_type": "code",
   "execution_count": 146,
   "metadata": {
    "colab": {
     "base_uri": "https://localhost:8080/"
    },
    "id": "rlX4ysVZpS28",
    "outputId": "eff82b4a-3dd8-4046-cb9e-a6f579a16683"
   },
   "outputs": [
    {
     "name": "stdout",
     "output_type": "stream",
     "text": [
      "Financial lexicon added successfully!\n"
     ]
    }
   ],
   "source": [
    "# Import necessary libraries for sentiment analysis\n",
    "import nltk\n",
    "from nltk.sentiment import SentimentIntensityAnalyzer\n",
    "\n",
    "# Downloading VADER lexicon\n",
    "nltk.download('vader_lexicon', quiet=True)\n",
    "sid = SentimentIntensityAnalyzer()\n",
    "\n",
    "# Enhancing VADER with financial lexicon\n",
    "financial_dict = {\n",
    "    'bullish': 3.0, 'rally': 2.0, 'surge': 2.0, 'growth': 1.5, 'profit': 1.0,\n",
    "    'bearish': -3.0, 'crash': -2.0, 'decline': -1.5, 'loss': -1.0, 'fall': -1.0\n",
    "}\n",
    "sid.lexicon.update(financial_dict)\n",
    "\n",
    "print(\"Financial lexicon added successfully!\")"
   ]
  },
  {
   "cell_type": "markdown",
   "metadata": {
    "id": "-OsGrwKxpXb-"
   },
   "source": [
    "## Computing Sentiment Scores\n",
    "\n",
    "We use VADER to compute a compound sentiment score for each headline. The compound score ranges from -1 (negative) to +1 (positive). Headlines are truncated to 5000 characters to ensure efficient processing.\n"
   ]
  },
  {
   "cell_type": "code",
   "execution_count": 147,
   "metadata": {
    "colab": {
     "background_save": true
    },
    "id": "RNdrj09DpYJ8"
   },
   "outputs": [
    {
     "name": "stdout",
     "output_type": "stream",
     "text": [
      "\n",
      "--- Sentiment Scores ---\n",
      "                                                headline_text  sentiment\n",
      "2003-07-14  Hot enough or fast enough? Fat can be addictiv...    -0.9985\n",
      "2003-07-15  New boat building yard to be set up in Kochi N...    -0.9919\n",
      "2003-07-16  MD's fake diploma finally gets him India to se...    -0.9973\n",
      "2003-07-17  Indians are unwilling to swipe their cards Sou...    -0.9967\n",
      "2003-07-18  Airtel receives Govt nod for additional spectr...    -0.7564\n"
     ]
    }
   ],
   "source": [
    "# Define a function to compute sentiment scores\n",
    "def get_financial_sentiment(text):\n",
    "    if isinstance(text, str):\n",
    "        return sid.polarity_scores(text[:5000])['compound']\n",
    "    return 0\n",
    "\n",
    "# Apply sentiment analysis to headlines\n",
    "stock_data['sentiment'] = stock_data['headline_text'].apply(get_financial_sentiment)\n",
    "\n",
    "print(\"\\n--- Sentiment Scores ---\")\n",
    "print(stock_data[['headline_text', 'sentiment']].head())"
   ]
  },
  {
   "cell_type": "markdown",
   "metadata": {
    "id": "vS6m12fCraSx"
   },
   "source": [
    "## Normalizing Sentiment Scores\n",
    "\n",
    "To address biases in raw sentiment scores, we normalize them to a range of 0 (most negative) to 1 (most positive). This makes the scores easier to interpret and use in predictive modeling.\n"
   ]
  },
  {
   "cell_type": "code",
   "execution_count": 148,
   "metadata": {
    "colab": {
     "base_uri": "https://localhost:8080/"
    },
    "id": "WQVqCh3NrcaP",
    "outputId": "43777cf0-c0dd-4ac0-aa2e-6e56ec7a83d7"
   },
   "outputs": [
    {
     "name": "stdout",
     "output_type": "stream",
     "text": [
      "\n",
      "--- Normalized Sentiment Scores ---\n",
      "            sentiment  sentiment_norm\n",
      "2003-07-14    -0.9985         0.00075\n",
      "2003-07-15    -0.9919         0.00405\n",
      "2003-07-16    -0.9973         0.00135\n",
      "2003-07-17    -0.9967         0.00165\n",
      "2003-07-18    -0.7564         0.12180\n"
     ]
    }
   ],
   "source": [
    "# Normalize sentiment scores\n",
    "stock_data['sentiment_norm'] = (stock_data['sentiment'] + 1) / 2\n",
    "\n",
    "print(\"\\n--- Normalized Sentiment Scores ---\")\n",
    "print(stock_data[['sentiment', 'sentiment_norm']].head())"
   ]
  },
  {
   "cell_type": "markdown",
   "metadata": {
    "id": "QKexS0wprmQF"
   },
   "source": [
    "## Rolling Averages of Sentiment\n",
    "\n",
    "Rolling averages help smooth out short-term fluctuations in sentiment and capture trends over time:\n",
    "- **3-day average** (`sentiment_3d`): Captures very short-term trends.\n",
    "- **7-day average** (`sentiment_7d`): Captures weekly trends.\n"
   ]
  },
  {
   "cell_type": "code",
   "execution_count": 149,
   "metadata": {
    "colab": {
     "base_uri": "https://localhost:8080/"
    },
    "id": "xyXr8F87roLW",
    "outputId": "881d895d-a0e6-4611-e371-0d0ce1066e92"
   },
   "outputs": [
    {
     "name": "stdout",
     "output_type": "stream",
     "text": [
      "\n",
      "--- Rolling Averages of Sentiment ---\n",
      "            sentiment  sentiment_3d  sentiment_7d\n",
      "2003-07-14    -0.9985       -0.9985      -0.99850\n",
      "2003-07-15    -0.9919       -0.9952      -0.99520\n",
      "2003-07-16    -0.9973       -0.9959      -0.99590\n",
      "2003-07-17    -0.9967       -0.9953      -0.99610\n",
      "2003-07-18    -0.7564       -0.9168      -0.94816\n"
     ]
    }
   ],
   "source": [
    "# Compute rolling averages of sentiment\n",
    "stock_data['sentiment_3d'] = stock_data['sentiment'].rolling(3, min_periods=1).mean()\n",
    "stock_data['sentiment_7d'] = stock_data['sentiment'].rolling(7, min_periods=1).mean()\n",
    "\n",
    "print(\"\\n--- Rolling Averages of Sentiment ---\")\n",
    "print(stock_data[['sentiment', 'sentiment_3d', 'sentiment_7d']].head())"
   ]
  },
  {
   "cell_type": "markdown",
   "metadata": {
    "id": "pRR4SJz2rrDl"
   },
   "source": [
    "## Binary Sentiment Indicators\n",
    "\n",
    "Binary indicators simplify sentiment analysis by categorizing headlines as:\n",
    "- **Bullish** (`bullish`): Headlines with a compound score > -0.3.\n",
    "- **Very Bullish** (`very_bullish`): Headlines with a compound score > +0.3.\n",
    "These indicators can be used as features in predictive models.\n"
   ]
  },
  {
   "cell_type": "code",
   "execution_count": 150,
   "metadata": {
    "colab": {
     "base_uri": "https://localhost:8080/"
    },
    "id": "V6bKoTuwrsiX",
    "outputId": "56888496-a1ba-4e5c-e3d0-ed1dc35201c7"
   },
   "outputs": [
    {
     "name": "stdout",
     "output_type": "stream",
     "text": [
      "\n",
      "--- Binary Sentiment Indicators ---\n",
      "            sentiment  bullish  very_bullish\n",
      "2003-07-14    -0.9985        0             0\n",
      "2003-07-15    -0.9919        0             0\n",
      "2003-07-16    -0.9973        0             0\n",
      "2003-07-17    -0.9967        0             0\n",
      "2003-07-18    -0.7564        0             0\n"
     ]
    }
   ],
   "source": [
    "# Create binary sentiment indicators\n",
    "stock_data['bullish'] = (stock_data['sentiment'] > -0.3).astype(int)\n",
    "stock_data['very_bullish'] = (stock_data['sentiment'] > 0.3).astype(int)\n",
    "\n",
    "# Drop headline_text column after processing\n",
    "stock_data.drop('headline_text', axis=1, inplace=True)\n",
    "\n",
    "# Display binary sentiment indicators\n",
    "print(\"\\n--- Binary Sentiment Indicators ---\")\n",
    "print(stock_data[['sentiment', 'bullish', 'very_bullish']].head())"
   ]
  },
  {
   "cell_type": "markdown",
   "metadata": {
    "id": "THh-EW2MsBpw"
   },
   "source": [
    "# **Feature Engineering**\n",
    "\n",
    "---\n",
    "\n",
    "## **Overview**\n",
    "\n",
    "In this step, we engineer additional features from the stock price data to improve the predictive power of our models. These features include technical indicators, price lags, volatility measures, and more. Feature engineering is crucial for capturing complex patterns in stock price movements.\n",
    "\n",
    "### **Goals**\n",
    "1. Create lagged features for historical prices and returns.\n",
    "2. Compute moving averages (MA) and their ratios.\n",
    "3. Calculate volatility measures.\n",
    "4. Add technical indicators like RSI (Relative Strength Index) and Bollinger Bands.\n",
    "5. Define the target variable (`next_close`) for prediction.\n",
    "\n",
    "---"
   ]
  },
  {
   "cell_type": "markdown",
   "metadata": {
    "id": "pGKSl5y2sRND"
   },
   "source": [
    "## Creating Lagged Features\n",
    "\n",
    "Lagged features represent past values of stock prices and returns. These are essential for capturing historical trends and patterns:\n",
    "- **`close_lag_n`**: Closing price `n` days ago.\n",
    "- **`return_lag_n`**: Log return `n` days ago.\n"
   ]
  },
  {
   "cell_type": "code",
   "execution_count": 151,
   "metadata": {
    "colab": {
     "base_uri": "https://localhost:8080/"
    },
    "id": "n6ZRnbKgsTPM",
    "outputId": "ec40f02c-c9a0-4ed5-9d24-fe1726e5036c"
   },
   "outputs": [
    {
     "name": "stdout",
     "output_type": "stream",
     "text": [
      "\n",
      "--- Lagged Features ---\n",
      "            close_lag_1  close_lag_2  close_lag_3  return_lag_1  return_lag_2  \\\n",
      "2003-07-14          NaN          NaN          NaN           NaN           NaN   \n",
      "2003-07-15  3720.750000          NaN          NaN           NaN           NaN   \n",
      "2003-07-16  3686.340088  3720.750000          NaN     -0.009291           NaN   \n",
      "2003-07-17  3721.649902  3686.340088  3720.750000      0.009533     -0.009291   \n",
      "2003-07-18  3668.909912  3721.649902  3686.340088     -0.014273      0.009533   \n",
      "\n",
      "            return_lag_3  \n",
      "2003-07-14           NaN  \n",
      "2003-07-15           NaN  \n",
      "2003-07-16           NaN  \n",
      "2003-07-17           NaN  \n",
      "2003-07-18     -0.009291  \n"
     ]
    }
   ],
   "source": [
    "# Create lagged features\n",
    "for i in range(1, 8):\n",
    "    stock_data[f'close_lag_{i}'] = stock_data['Close'].shift(i)\n",
    "    stock_data[f'return_lag_{i}'] = np.log(stock_data['Close'] / stock_data['Close'].shift(1)).shift(i)\n",
    "\n",
    "print(\"\\n--- Lagged Features ---\")\n",
    "print(stock_data[[f'close_lag_{i}' for i in range(1, 4)] + [f'return_lag_{i}' for i in range(1, 4)]].head())\n"
   ]
  },
  {
   "cell_type": "markdown",
   "metadata": {
    "id": "7Ooxu4AkskA-"
   },
   "source": [
    "## Computing Moving Averages\n",
    "\n",
    "Moving averages smooth out price fluctuations over a specified period:\n",
    "- **`ma_n`**: Moving average over `n` days.\n",
    "- **Ratios**:\n",
    "  - `ma5_10_ratio`: Ratio of 5-day to 10-day moving averages.\n",
    "  - `ma10_20_ratio`: Ratio of 10-day to 20-day moving averages.\n"
   ]
  },
  {
   "cell_type": "code",
   "execution_count": 152,
   "metadata": {
    "colab": {
     "base_uri": "https://localhost:8080/"
    },
    "id": "L-1iXJJSslk2",
    "outputId": "ff761c80-81a5-4832-f796-3c497ab077b6"
   },
   "outputs": [
    {
     "name": "stdout",
     "output_type": "stream",
     "text": [
      "\n",
      "--- Moving Averages and Ratios ---\n",
      "                    ma5  ma10  ma20  ma50  ma5_10_ratio  ma10_20_ratio\n",
      "2003-07-14          NaN   NaN   NaN   NaN           NaN            NaN\n",
      "2003-07-15          NaN   NaN   NaN   NaN           NaN            NaN\n",
      "2003-07-16          NaN   NaN   NaN   NaN           NaN            NaN\n",
      "2003-07-17          NaN   NaN   NaN   NaN           NaN            NaN\n",
      "2003-07-18  3689.045996   NaN   NaN   NaN           NaN            NaN\n"
     ]
    }
   ],
   "source": [
    "# Compute moving averages\n",
    "stock_data['ma5'] = stock_data['Close'].rolling(5).mean()\n",
    "stock_data['ma10'] = stock_data['Close'].rolling(10).mean()\n",
    "stock_data['ma20'] = stock_data['Close'].rolling(20).mean()\n",
    "stock_data['ma50'] = stock_data['Close'].rolling(50).mean()\n",
    "\n",
    "# Compute moving average ratios\n",
    "stock_data['close_ma5_pct'] = (stock_data['Close'] - stock_data['ma5']) / stock_data['ma5'] * 100\n",
    "stock_data['ma5_10_ratio'] = stock_data['ma5'] / stock_data['ma10']\n",
    "stock_data['ma10_20_ratio'] = stock_data['ma10'] / stock_data['ma20']\n",
    "stock_data['log_return'] = np.log(stock_data['Close'] / stock_data['Close'].shift(1))\n",
    "\n",
    "print(\"\\n--- Moving Averages and Ratios ---\")\n",
    "print(stock_data[['ma5', 'ma10', 'ma20', 'ma50', 'ma5_10_ratio', 'ma10_20_ratio']].head())\n"
   ]
  },
  {
   "cell_type": "markdown",
   "metadata": {
    "id": "__IAMpM9smsb"
   },
   "source": [
    "## Calculating Volatility\n",
    "\n",
    "Volatility measures the dispersion of returns over a given period:\n",
    "- **`volatility_n`**: Standard deviation of log returns over `n` days.\n"
   ]
  },
  {
   "cell_type": "code",
   "execution_count": 153,
   "metadata": {
    "colab": {
     "base_uri": "https://localhost:8080/"
    },
    "id": "rO2HsKJisrKB",
    "outputId": "d3e5eeb1-f080-45d1-bf42-eda718e59d44"
   },
   "outputs": [
    {
     "name": "stdout",
     "output_type": "stream",
     "text": [
      "\n",
      "--- Volatility Measures ---\n",
      "            volatility_5d  volatility_10d\n",
      "2003-07-14            NaN             NaN\n",
      "2003-07-15            NaN             NaN\n",
      "2003-07-16            NaN             NaN\n",
      "2003-07-17            NaN             NaN\n",
      "2003-07-18            NaN             NaN\n"
     ]
    }
   ],
   "source": [
    "# Compute volatility measures\n",
    "stock_data['volatility_5d'] = np.log(stock_data['Close'] / stock_data['Close'].shift(1)).rolling(5).std()\n",
    "stock_data['volatility_10d'] = np.log(stock_data['Close'] / stock_data['Close'].shift(1)).rolling(10).std()\n",
    "\n",
    "print(\"\\n--- Volatility Measures ---\")\n",
    "print(stock_data[['volatility_5d', 'volatility_10d']].head())"
   ]
  },
  {
   "cell_type": "markdown",
   "metadata": {
    "id": "WkjZgo4oss1i"
   },
   "source": [
    "## Adding RSI (Relative Strength Index)\n",
    "\n",
    "RSI is a momentum indicator that measures the magnitude of recent price changes to evaluate overbought or oversold conditions:\n",
    "- RSI values range from 0 to 100.\n",
    "- Computed using gains and losses over a rolling window (14 days).\n"
   ]
  },
  {
   "cell_type": "code",
   "execution_count": 154,
   "metadata": {
    "colab": {
     "base_uri": "https://localhost:8080/"
    },
    "id": "0sbxxPoPsuf_",
    "outputId": "49637d98-db0c-449c-acb4-3fdf9c3084b4"
   },
   "outputs": [
    {
     "name": "stdout",
     "output_type": "stream",
     "text": [
      "\n",
      "--- RSI Values ---\n",
      "            rsi_14\n",
      "2003-07-14     NaN\n",
      "2003-07-15     NaN\n",
      "2003-07-16     NaN\n",
      "2003-07-17     NaN\n",
      "2003-07-18     NaN\n"
     ]
    }
   ],
   "source": [
    "# Compute RSI (Relative Strength Index)\n",
    "delta = stock_data['Close'].diff()\n",
    "gain = delta.where(delta > 0, 0).rolling(window=14).mean()\n",
    "loss = -delta.where(delta < 0, 0).rolling(window=14).mean()\n",
    "rs = gain / loss.replace(0, np.nan).fillna(gain)\n",
    "stock_data['rsi_14'] = 100 - (100 / (1 + rs))\n",
    "\n",
    "# Display RSI values\n",
    "print(\"\\n--- RSI Values ---\")\n",
    "print(stock_data[['rsi_14']].head())"
   ]
  },
  {
   "cell_type": "markdown",
   "metadata": {
    "id": "oidGt03rsw6X"
   },
   "source": [
    "## Adding Bollinger Bands\n",
    "\n",
    "Bollinger Bands are a volatility-based indicator consisting of:\n",
    "- **Middle Band (`bb_middle`)**: 20-day moving average.\n",
    "- **Upper Band (`bb_upper`)** and Lower Band (`bb_lower`) based on standard deviations from the middle band.\n",
    "- **Band Width (`bb_width`)**: Difference between upper and lower bands as a percentage of the middle band.\n",
    "- **Position (`bb_position`)**: Current price's position within the bands (scaled between 0 and 1).\n"
   ]
  },
  {
   "cell_type": "code",
   "execution_count": 155,
   "metadata": {
    "colab": {
     "base_uri": "https://localhost:8080/"
    },
    "id": "Avi7zO7bszih",
    "outputId": "32f73f75-28db-4bcf-f340-b2fa899d4dd9"
   },
   "outputs": [
    {
     "name": "stdout",
     "output_type": "stream",
     "text": [
      "\n",
      "--- Bollinger Bands ---\n",
      "            bb_middle  bb_upper  bb_lower  bb_width  bb_position\n",
      "2003-07-14        NaN       NaN       NaN       NaN          NaN\n",
      "2003-07-15        NaN       NaN       NaN       NaN          NaN\n",
      "2003-07-16        NaN       NaN       NaN       NaN          NaN\n",
      "2003-07-17        NaN       NaN       NaN       NaN          NaN\n",
      "2003-07-18        NaN       NaN       NaN       NaN          NaN\n"
     ]
    }
   ],
   "source": [
    "# Compute Bollinger Bands\n",
    "stock_data['bb_middle'] = stock_data['Close'].rolling(20).mean()\n",
    "stock_data['bb_std'] = stock_data['Close'].rolling(20).std()\n",
    "stock_data['bb_upper'] = stock_data['bb_middle'] + (2 * stock_data['bb_std'])\n",
    "stock_data['bb_lower'] = stock_data['bb_middle'] - (2 * stock_data['bb_std'])\n",
    "stock_data['bb_width'] = (stock_data['bb_upper'] - stock_data['bb_lower']) / stock_data['bb_middle']\n",
    "stock_data['bb_position'] = ((stock_data['Close'] - stock_data['bb_lower']) /\n",
    "                             (stock_data['bb_upper'] - stock_data['bb_lower'])).clip(0, 1)\n",
    "\n",
    "# Display Bollinger Bands\n",
    "print(\"\\n--- Bollinger Bands ---\")\n",
    "print(stock_data[['bb_middle', 'bb_upper', 'bb_lower', 'bb_width', 'bb_position']].head())\n"
   ]
  },
  {
   "cell_type": "markdown",
   "metadata": {
    "id": "PexXCIxvs2bH"
   },
   "source": [
    "## Defining Target Variable\n",
    "\n",
    "The target variable (`next_close`) represents the closing price on the next trading day. This is what our model will predict.\n"
   ]
  },
  {
   "cell_type": "code",
   "execution_count": 156,
   "metadata": {
    "colab": {
     "base_uri": "https://localhost:8080/"
    },
    "id": "ZYi66bqFs351",
    "outputId": "8a5bba5e-fdf8-4d68-ae21-a0699a7235ad"
   },
   "outputs": [
    {
     "name": "stdout",
     "output_type": "stream",
     "text": [
      "\n",
      "--- Target Variable ---\n",
      "                  Close   next_close\n",
      "2003-09-22  4151.720215  4231.689941\n",
      "2003-09-23  4231.689941  4356.390137\n",
      "2003-09-24  4356.390137  4297.149902\n",
      "2003-09-25  4297.149902  4382.569824\n",
      "2003-09-26  4382.569824  4402.049805\n"
     ]
    }
   ],
   "source": [
    "# Define target variable\n",
    "stock_data['next_close'] = stock_data['Close'].shift(-1)\n",
    "\n",
    "# Drop rows with NaN values caused by lagging or shifting operations\n",
    "stock_data.dropna(inplace=True)\n",
    "\n",
    "# Display target variable\n",
    "print(\"\\n--- Target Variable ---\")\n",
    "print(stock_data[['Close', 'next_close']].head())"
   ]
  },
  {
   "cell_type": "markdown",
   "metadata": {
    "id": "EhM3dj_xwV9N"
   },
   "source": [
    "# **Data Preparation for Modeling**\n",
    "\n",
    "---\n",
    "\n",
    "## **Overview**\n",
    "\n",
    "In this step, we prepare the engineered dataset for machine learning and deep learning models. This involves:\n",
    "1. Selecting relevant features for training.\n",
    "2. Splitting the data into training and testing sets.\n",
    "3. Scaling the features and target variable to improve model performance.\n",
    "4. Reshaping the data for LSTM (Long Short-Term Memory) networks.\n",
    "\n",
    "---\n",
    "\n"
   ]
  },
  {
   "cell_type": "markdown",
   "metadata": {
    "id": "ZO7z09hSwaV2"
   },
   "source": [
    "## Feature Selection\n",
    "\n",
    "We select the most relevant features for training the model. These include:\n",
    "- **Lagged Features**: `close_lag_n`, `return_lag_n`.\n",
    "- **Technical Indicators**: Moving averages, RSI, Bollinger Bands, etc.\n",
    "- **Sentiment Features**: Normalized sentiment scores and binary indicators.\n",
    "\n",
    "The target variable is `next_close`, which represents the closing price on the next trading day.\n"
   ]
  },
  {
   "cell_type": "code",
   "execution_count": 157,
   "metadata": {
    "colab": {
     "base_uri": "https://localhost:8080/"
    },
    "id": "9f92aMXJwepw",
    "outputId": "08179040-8d91-438d-e1c6-658d6f11e492"
   },
   "outputs": [
    {
     "name": "stdout",
     "output_type": "stream",
     "text": [
      "\n",
      "--- Selected Features ---\n",
      "            close_lag_1  close_lag_2          ma5         ma20  ma5_10_ratio  \\\n",
      "2003-09-22  4217.120117  4134.149902  4202.618066  4280.806006      0.982714   \n",
      "2003-09-23  4151.720215  4217.120117  4194.006055  4284.776001      0.985158   \n",
      "2003-09-24  4231.689941  4151.720215  4218.214063  4292.317505      0.992660   \n",
      "2003-09-25  4356.390137  4231.689941  4250.814062  4296.560498      1.002596   \n",
      "2003-09-26  4297.149902  4356.390137  4283.904004  4303.452490      1.008577   \n",
      "\n",
      "            close_ma5_pct  volatility_5d     rsi_14  bb_position  log_return  \\\n",
      "2003-09-22      -1.211099       0.020339  39.419860     0.164518   -0.015630   \n",
      "2003-09-23       0.898518       0.020330  48.516461     0.356003    0.019079   \n",
      "2003-09-24       3.275701       0.023836  52.397496     0.675041    0.029042   \n",
      "2003-09-25       1.090046       0.020827  46.238847     0.501645   -0.013692   \n",
      "2003-09-26       2.303175       0.020799  47.357214     0.718195    0.019683   \n",
      "\n",
      "            return_lag_1  sentiment_norm  bullish  \n",
      "2003-09-22      0.019871         0.00040        0  \n",
      "2003-09-23     -0.015630         0.00105        0  \n",
      "2003-09-24      0.019079         0.00075        0  \n",
      "2003-09-25      0.029042         0.00110        0  \n",
      "2003-09-26     -0.013692         0.05615        0  \n",
      "\n",
      "--- Target Variable ---\n",
      "2003-09-22    4231.689941\n",
      "2003-09-23    4356.390137\n",
      "2003-09-24    4297.149902\n",
      "2003-09-25    4382.569824\n",
      "2003-09-26    4402.049805\n",
      "Name: next_close, dtype: float64\n"
     ]
    }
   ],
   "source": [
    "# Select relevant features\n",
    "selected_features = [\n",
    "    'close_lag_1', 'close_lag_2', 'ma5', 'ma20', 'ma5_10_ratio',\n",
    "    'close_ma5_pct', 'volatility_5d', 'rsi_14', 'bb_position',\n",
    "    'log_return', 'return_lag_1', 'sentiment_norm', 'bullish'\n",
    "]\n",
    "\n",
    "X = stock_data[selected_features]\n",
    "y = stock_data['next_close']\n",
    "\n",
    "print(\"\\n--- Selected Features ---\")\n",
    "print(X.head())\n",
    "print(\"\\n--- Target Variable ---\")\n",
    "print(y.head())"
   ]
  },
  {
   "cell_type": "markdown",
   "metadata": {
    "id": "xDXLP9lw0APq"
   },
   "source": [
    "## Splitting Data into Training and Testing Sets\n",
    "\n",
    "We split the data into:\n",
    "- **Training Set**: 80% of the data, used to train the model.\n",
    "- **Testing Set**: 20% of the data, used to evaluate model performance.\n",
    "\n",
    "This ensures that the model is evaluated on unseen data to avoid overfitting.\n"
   ]
  },
  {
   "cell_type": "code",
   "execution_count": 158,
   "metadata": {
    "colab": {
     "base_uri": "https://localhost:8080/"
    },
    "id": "2FbvObQD0DB6",
    "outputId": "e0e0f8f8-efb2-4dce-e47b-e7fb21132304"
   },
   "outputs": [
    {
     "name": "stdout",
     "output_type": "stream",
     "text": [
      "\n",
      "--- Training Set Shape ---\n",
      "X_train: (3398, 13), y_train: (3398,)\n",
      "\n",
      "--- Testing Set Shape ---\n",
      "X_test: (850, 13), y_test: (850,)\n"
     ]
    }
   ],
   "source": [
    "# Split data into training and testing sets (80-20 split)\n",
    "split_idx = int(len(stock_data) * 0.8)\n",
    "X_train, X_test = X.iloc[:split_idx], X.iloc[split_idx:]\n",
    "y_train, y_test = y.iloc[:split_idx], y.iloc[split_idx:]\n",
    "\n",
    "print(\"\\n--- Training Set Shape ---\")\n",
    "print(f\"X_train: {X_train.shape}, y_train: {y_train.shape}\")\n",
    "print(\"\\n--- Testing Set Shape ---\")\n",
    "print(f\"X_test: {X_test.shape}, y_test: {y_test.shape}\")"
   ]
  },
  {
   "cell_type": "markdown",
   "metadata": {
    "id": "dyrZ5Sk30Et5"
   },
   "source": [
    "## Scaling Features and Target Variable\n",
    "\n",
    "Scaling ensures that all features are on a similar scale, which improves model performance:\n",
    "- We use `MinMaxScaler` to scale features to a range of -1 to 1.\n",
    "- The target variable (`next_close`) is also scaled to match the feature scaling.\n"
   ]
  },
  {
   "cell_type": "code",
   "execution_count": 159,
   "metadata": {
    "colab": {
     "base_uri": "https://localhost:8080/"
    },
    "id": "Vn_lzeJ50Mru",
    "outputId": "4082814c-033d-4a2b-aa57-7affe0fc0235"
   },
   "outputs": [
    {
     "name": "stdout",
     "output_type": "stream",
     "text": [
      "\n",
      "--- Scaled Training Features (Sample) ---\n",
      "[[-0.99526998 -1.         -0.99937456 -1.         -0.29793251 -0.16890828\n",
      "  -0.51926935 -0.27200808 -0.67096324 -0.26284064 -0.0074341  -0.99949972\n",
      "  -1.        ]\n",
      " [-1.         -0.99399048 -1.         -0.99970599 -0.26519543 -0.00950376\n",
      "  -0.51948076 -0.07926614 -0.28799353 -0.0131326  -0.26284064 -0.99819901\n",
      "  -1.        ]\n",
      " [-0.99421622 -0.99872739 -0.99824192 -0.99914749 -0.16470529  0.17011835\n",
      "  -0.43172914  0.00296657  0.35008204  0.05855063 -0.0131326  -0.99879934\n",
      "  -1.        ]\n",
      " [-0.98519733 -0.99293519 -0.99587438 -0.99883326 -0.03161033  0.00496831\n",
      "  -0.5070564  -0.12752502  0.00329087 -0.2488983   0.05855063 -0.99809895\n",
      "  -1.        ]\n",
      " [-0.98948185 -0.98390318 -0.99347125 -0.99832286  0.04850473  0.09663344\n",
      "  -0.50773613 -0.10382868  0.43638952 -0.00878274 -0.2488983  -0.88793837\n",
      "  -1.        ]]\n",
      "\n",
      "--- Scaled Training Target (Sample) ---\n",
      "[[-1.        ]\n",
      " [-0.9910306 ]\n",
      " [-0.99529161]\n",
      " [-0.98914755]\n",
      " [-0.9877464 ]]\n"
     ]
    }
   ],
   "source": [
    "# Initialize scalers for features and target variable\n",
    "X_scaler = MinMaxScaler(feature_range=(-1, 1))\n",
    "y_scaler = MinMaxScaler(feature_range=(-1, 1))\n",
    "\n",
    "# Scale training and testing features\n",
    "X_train_scaled = X_scaler.fit_transform(X_train)\n",
    "X_test_scaled = X_scaler.transform(X_test)\n",
    "\n",
    "# Scale training and testing target variable\n",
    "y_train_scaled = y_scaler.fit_transform(y_train.values.reshape(-1, 1))\n",
    "y_test_scaled = y_scaler.transform(y_test.values.reshape(-1, 1))\n",
    "\n",
    "# Display scaled data samples\n",
    "print(\"\\n--- Scaled Training Features (Sample) ---\")\n",
    "print(X_train_scaled[:5])\n",
    "print(\"\\n--- Scaled Training Target (Sample) ---\")\n",
    "print(y_train_scaled[:5])"
   ]
  },
  {
   "cell_type": "markdown",
   "metadata": {
    "id": "BVBy0zM20QSC"
   },
   "source": [
    "## Reshaping Data for LSTM\n",
    "\n",
    "LSTM networks expect input data in a 3D format:\n",
    "- Shape: `(samples, timesteps, features)`.\n",
    "- We reshape the scaled feature data to include a single timestep.\n"
   ]
  },
  {
   "cell_type": "code",
   "execution_count": 160,
   "metadata": {
    "colab": {
     "base_uri": "https://localhost:8080/"
    },
    "id": "Tm254wnC0Rr4",
    "outputId": "4d51b904-9588-4312-ef99-ea925a00065d"
   },
   "outputs": [
    {
     "name": "stdout",
     "output_type": "stream",
     "text": [
      "\n",
      "--- Reshaped Data for LSTM ---\n",
      "X_train_reshaped shape: (3398, 13, 1)\n",
      "X_test_reshaped shape: (850, 13, 1)\n"
     ]
    }
   ],
   "source": [
    "# Reshape feature data for LSTM input (3D format)\n",
    "X_train_reshaped = X_train_scaled.reshape((X_train_scaled.shape[0], X_train_scaled.shape[1], 1))\n",
    "X_test_reshaped = X_test_scaled.reshape((X_test_scaled.shape[0], X_test_scaled.shape[1], 1))\n",
    "\n",
    "print(\"\\n--- Reshaped Data for LSTM ---\")\n",
    "print(f\"X_train_reshaped shape: {X_train_reshaped.shape}\")\n",
    "print(f\"X_test_reshaped shape: {X_test_reshaped.shape}\")"
   ]
  },
  {
   "cell_type": "markdown",
   "metadata": {
    "id": "nAFEw0Pi0pug"
   },
   "source": [
    "# **Model Training and Prediction**\n",
    "\n",
    "---\n",
    "\n",
    "## **Overview**\n",
    "\n",
    "In this step, we train two models to predict stock prices:\n",
    "1. **Linear Regression Model**: Captures linear trends in the data.\n",
    "2. **LSTM Model**: Captures complex temporal patterns using deep learning.\n",
    "\n",
    "Additionally, we create an **ensemble prediction** by combining the outputs of both models for improved accuracy.\n",
    "\n",
    "---"
   ]
  },
  {
   "cell_type": "markdown",
   "metadata": {
    "id": "UaEkoN9e02a9"
   },
   "source": [
    "## Training the Linear Regression Model\n",
    "\n",
    "Linear regression is a simple yet effective model for capturing linear relationships between features and the target variable. We train it using the scaled feature and target data.\n"
   ]
  },
  {
   "cell_type": "code",
   "execution_count": 161,
   "metadata": {
    "colab": {
     "base_uri": "https://localhost:8080/"
    },
    "id": "tvQtiP5Q04gH",
    "outputId": "f973376d-1c5e-4188-f229-e51c67c4912c"
   },
   "outputs": [
    {
     "name": "stdout",
     "output_type": "stream",
     "text": [
      "Training Linear Regression model...\n",
      "\n",
      "--- Linear Regression Coefficients ---\n",
      "           Feature  Coefficient\n",
      "0      close_lag_1     0.614284\n",
      "1      close_lag_2    -0.648654\n",
      "2              ma5     1.036583\n",
      "3             ma20    -0.009930\n",
      "4     ma5_10_ratio    -0.014570\n",
      "5    close_ma5_pct     0.122793\n",
      "6    volatility_5d     0.001348\n",
      "7           rsi_14    -0.006051\n",
      "8      bb_position     0.009602\n",
      "9       log_return     0.006166\n",
      "10    return_lag_1    -0.095975\n",
      "11  sentiment_norm     0.004574\n",
      "12         bullish    -0.004727\n"
     ]
    }
   ],
   "source": [
    "# Create data_tuple to store training and testing data and their scaled versions\n",
    "data_tuple = (X_train, X_test, X_train_scaled, X_test_scaled, y_train_scaled, y_test_scaled, X_train_reshaped, X_test_reshaped, y_train, y_test)\n",
    "\n",
    "# Train the Linear Regression model\n",
    "def train_linear_model(X_train_scaled, y_train_scaled):\n",
    "    print(\"Training Linear Regression model...\")\n",
    "    lr_model = LinearRegression()\n",
    "    lr_model.fit(X_train_scaled, y_train_scaled)\n",
    "    return lr_model\n",
    "\n",
    "# Train the model\n",
    "lr_model = train_linear_model(data_tuple[2], data_tuple[4])  # Use correct indices from data_tuple\n",
    "\n",
    "# Display coefficients of the linear regression model\n",
    "print(\"\\n--- Linear Regression Coefficients ---\")\n",
    "print(pd.DataFrame({\n",
    "    'Feature': [\n",
    "        'close_lag_1', 'close_lag_2', 'ma5', 'ma20', 'ma5_10_ratio',\n",
    "        'close_ma5_pct', 'volatility_5d', 'rsi_14', 'bb_position',\n",
    "        'log_return', 'return_lag_1', 'sentiment_norm', 'bullish'\n",
    "    ],\n",
    "    'Coefficient': lr_model.coef_[0]\n",
    "}))"
   ]
  },
  {
   "cell_type": "markdown",
   "metadata": {
    "id": "GHD2DP4K6_CX"
   },
   "source": [
    "## Building the LSTM Model\n",
    "\n",
    "LSTM (Long Short-Term Memory) networks are specialized for sequential data like stock prices. They can capture temporal dependencies and complex patterns over time.\n",
    "\n",
    "### Architecture:\n",
    "- **Bidirectional LSTM**: Captures dependencies in both forward and backward directions.\n",
    "- **Dropout Layers**: Prevent overfitting.\n",
    "- **Dense Layers**: Map learned features to predictions.\n"
   ]
  },
  {
   "cell_type": "code",
   "execution_count": 162,
   "metadata": {
    "colab": {
     "base_uri": "https://localhost:8080/",
     "height": 376
    },
    "id": "vB0BF1mC7AsM",
    "outputId": "53178b05-bb16-4598-e2eb-50eb378472fc"
   },
   "outputs": [
    {
     "name": "stdout",
     "output_type": "stream",
     "text": [
      "Building LSTM model...\n"
     ]
    },
    {
     "data": {
      "text/html": [
       "<pre style=\"white-space:pre;overflow-x:auto;line-height:normal;font-family:Menlo,'DejaVu Sans Mono',consolas,'Courier New',monospace\"><span style=\"font-weight: bold\">Model: \"sequential_12\"</span>\n",
       "</pre>\n"
      ],
      "text/plain": [
       "\u001b[1mModel: \"sequential_12\"\u001b[0m\n"
      ]
     },
     "metadata": {},
     "output_type": "display_data"
    },
    {
     "data": {
      "text/html": [
       "<pre style=\"white-space:pre;overflow-x:auto;line-height:normal;font-family:Menlo,'DejaVu Sans Mono',consolas,'Courier New',monospace\">┏━━━━━━━━━━━━━━━━━━━━━━━━━━━━━━━━━┳━━━━━━━━━━━━━━━━━━━━━━━━┳━━━━━━━━━━━━━━━┓\n",
       "┃<span style=\"font-weight: bold\"> Layer (type)                    </span>┃<span style=\"font-weight: bold\"> Output Shape           </span>┃<span style=\"font-weight: bold\">       Param # </span>┃\n",
       "┡━━━━━━━━━━━━━━━━━━━━━━━━━━━━━━━━━╇━━━━━━━━━━━━━━━━━━━━━━━━╇━━━━━━━━━━━━━━━┩\n",
       "│ bidirectional_13                │ ?                      │   <span style=\"color: #00af00; text-decoration-color: #00af00\">0</span> (unbuilt) │\n",
       "│ (<span style=\"color: #0087ff; text-decoration-color: #0087ff\">Bidirectional</span>)                 │                        │               │\n",
       "├─────────────────────────────────┼────────────────────────┼───────────────┤\n",
       "│ dropout_24 (<span style=\"color: #0087ff; text-decoration-color: #0087ff\">Dropout</span>)            │ ?                      │             <span style=\"color: #00af00; text-decoration-color: #00af00\">0</span> │\n",
       "├─────────────────────────────────┼────────────────────────┼───────────────┤\n",
       "│ lstm_25 (<span style=\"color: #0087ff; text-decoration-color: #0087ff\">LSTM</span>)                  │ ?                      │   <span style=\"color: #00af00; text-decoration-color: #00af00\">0</span> (unbuilt) │\n",
       "├─────────────────────────────────┼────────────────────────┼───────────────┤\n",
       "│ dropout_25 (<span style=\"color: #0087ff; text-decoration-color: #0087ff\">Dropout</span>)            │ ?                      │             <span style=\"color: #00af00; text-decoration-color: #00af00\">0</span> │\n",
       "├─────────────────────────────────┼────────────────────────┼───────────────┤\n",
       "│ dense_25 (<span style=\"color: #0087ff; text-decoration-color: #0087ff\">Dense</span>)                │ ?                      │   <span style=\"color: #00af00; text-decoration-color: #00af00\">0</span> (unbuilt) │\n",
       "├─────────────────────────────────┼────────────────────────┼───────────────┤\n",
       "│ dense_26 (<span style=\"color: #0087ff; text-decoration-color: #0087ff\">Dense</span>)                │ ?                      │   <span style=\"color: #00af00; text-decoration-color: #00af00\">0</span> (unbuilt) │\n",
       "└─────────────────────────────────┴────────────────────────┴───────────────┘\n",
       "</pre>\n"
      ],
      "text/plain": [
       "┏━━━━━━━━━━━━━━━━━━━━━━━━━━━━━━━━━┳━━━━━━━━━━━━━━━━━━━━━━━━┳━━━━━━━━━━━━━━━┓\n",
       "┃\u001b[1m \u001b[0m\u001b[1mLayer (type)                   \u001b[0m\u001b[1m \u001b[0m┃\u001b[1m \u001b[0m\u001b[1mOutput Shape          \u001b[0m\u001b[1m \u001b[0m┃\u001b[1m \u001b[0m\u001b[1m      Param #\u001b[0m\u001b[1m \u001b[0m┃\n",
       "┡━━━━━━━━━━━━━━━━━━━━━━━━━━━━━━━━━╇━━━━━━━━━━━━━━━━━━━━━━━━╇━━━━━━━━━━━━━━━┩\n",
       "│ bidirectional_13                │ ?                      │   \u001b[38;5;34m0\u001b[0m (unbuilt) │\n",
       "│ (\u001b[38;5;33mBidirectional\u001b[0m)                 │                        │               │\n",
       "├─────────────────────────────────┼────────────────────────┼───────────────┤\n",
       "│ dropout_24 (\u001b[38;5;33mDropout\u001b[0m)            │ ?                      │             \u001b[38;5;34m0\u001b[0m │\n",
       "├─────────────────────────────────┼────────────────────────┼───────────────┤\n",
       "│ lstm_25 (\u001b[38;5;33mLSTM\u001b[0m)                  │ ?                      │   \u001b[38;5;34m0\u001b[0m (unbuilt) │\n",
       "├─────────────────────────────────┼────────────────────────┼───────────────┤\n",
       "│ dropout_25 (\u001b[38;5;33mDropout\u001b[0m)            │ ?                      │             \u001b[38;5;34m0\u001b[0m │\n",
       "├─────────────────────────────────┼────────────────────────┼───────────────┤\n",
       "│ dense_25 (\u001b[38;5;33mDense\u001b[0m)                │ ?                      │   \u001b[38;5;34m0\u001b[0m (unbuilt) │\n",
       "├─────────────────────────────────┼────────────────────────┼───────────────┤\n",
       "│ dense_26 (\u001b[38;5;33mDense\u001b[0m)                │ ?                      │   \u001b[38;5;34m0\u001b[0m (unbuilt) │\n",
       "└─────────────────────────────────┴────────────────────────┴───────────────┘\n"
      ]
     },
     "metadata": {},
     "output_type": "display_data"
    },
    {
     "data": {
      "text/html": [
       "<pre style=\"white-space:pre;overflow-x:auto;line-height:normal;font-family:Menlo,'DejaVu Sans Mono',consolas,'Courier New',monospace\"><span style=\"font-weight: bold\"> Total params: </span><span style=\"color: #00af00; text-decoration-color: #00af00\">0</span> (0.00 B)\n",
       "</pre>\n"
      ],
      "text/plain": [
       "\u001b[1m Total params: \u001b[0m\u001b[38;5;34m0\u001b[0m (0.00 B)\n"
      ]
     },
     "metadata": {},
     "output_type": "display_data"
    },
    {
     "data": {
      "text/html": [
       "<pre style=\"white-space:pre;overflow-x:auto;line-height:normal;font-family:Menlo,'DejaVu Sans Mono',consolas,'Courier New',monospace\"><span style=\"font-weight: bold\"> Trainable params: </span><span style=\"color: #00af00; text-decoration-color: #00af00\">0</span> (0.00 B)\n",
       "</pre>\n"
      ],
      "text/plain": [
       "\u001b[1m Trainable params: \u001b[0m\u001b[38;5;34m0\u001b[0m (0.00 B)\n"
      ]
     },
     "metadata": {},
     "output_type": "display_data"
    },
    {
     "data": {
      "text/html": [
       "<pre style=\"white-space:pre;overflow-x:auto;line-height:normal;font-family:Menlo,'DejaVu Sans Mono',consolas,'Courier New',monospace\"><span style=\"font-weight: bold\"> Non-trainable params: </span><span style=\"color: #00af00; text-decoration-color: #00af00\">0</span> (0.00 B)\n",
       "</pre>\n"
      ],
      "text/plain": [
       "\u001b[1m Non-trainable params: \u001b[0m\u001b[38;5;34m0\u001b[0m (0.00 B)\n"
      ]
     },
     "metadata": {},
     "output_type": "display_data"
    },
    {
     "name": "stdout",
     "output_type": "stream",
     "text": [
      "None\n"
     ]
    }
   ],
   "source": [
    "# Build LSTM model\n",
    "def build_lstm_model(input_shape):\n",
    "    print(\"Building LSTM model...\")\n",
    "    model = Sequential([\n",
    "        Bidirectional(LSTM(128, return_sequences=True, input_shape=input_shape,\n",
    "                          kernel_regularizer=tf.keras.regularizers.l2(0.001))),\n",
    "        Dropout(0.35),\n",
    "        LSTM(64, return_sequences=False, kernel_regularizer=tf.keras.regularizers.l2(0.001)),\n",
    "        Dropout(0.25),\n",
    "        Dense(32, activation='relu'),\n",
    "        Dense(1)\n",
    "    ])\n",
    "\n",
    "    model.compile(\n",
    "        optimizer=tf.keras.optimizers.Adam(learning_rate=0.001, clipnorm=1.0),\n",
    "        loss='mse',\n",
    "        metrics=['mae']\n",
    "    )\n",
    "\n",
    "    return model\n",
    "\n",
    "# Build the LSTM model with the correct input shape\n",
    "input_shape = (X_train_reshaped.shape[1], X_train_reshaped.shape[2])\n",
    "lstm_model = build_lstm_model(input_shape)\n",
    "\n",
    "print(lstm_model.summary())"
   ]
  },
  {
   "cell_type": "markdown",
   "metadata": {
    "id": "MUZFMmKu_HMJ"
   },
   "source": [
    "## Training the LSTM Model\n",
    "\n",
    "We train the LSTM model using:\n",
    "- **Early Stopping**: Stops training when validation loss stops improving.\n",
    "- **Learning Rate Reduction**: Reduces learning rate if validation loss stagnates.\n",
    "\n",
    "The training process involves multiple epochs with a batch size of 32.\n"
   ]
  },
  {
   "cell_type": "code",
   "execution_count": 163,
   "metadata": {
    "id": "HWQOuuRPBY5R"
   },
   "outputs": [
    {
     "name": "stdout",
     "output_type": "stream",
     "text": [
      "\n",
      "--- Shapes of Input Data for LSTM ---\n",
      "X_train_reshaped shape: (3398, 13, 1)\n",
      "y_train_scaled shape: (3398, 1)\n",
      "Epoch 1/150\n"
     ]
    },
    {
     "name": "stdout",
     "output_type": "stream",
     "text": [
      "\u001b[1m85/85\u001b[0m \u001b[32m━━━━━━━━━━━━━━━━━━━━\u001b[0m\u001b[37m\u001b[0m \u001b[1m15s\u001b[0m 48ms/step - loss: 0.2405 - mae: 0.1772 - val_loss: 0.0675 - val_mae: 0.1420 - learning_rate: 0.0010\n",
      "Epoch 2/150\n",
      "\u001b[1m85/85\u001b[0m \u001b[32m━━━━━━━━━━━━━━━━━━━━\u001b[0m\u001b[37m\u001b[0m \u001b[1m3s\u001b[0m 38ms/step - loss: 0.0376 - mae: 0.0470 - val_loss: 0.0349 - val_mae: 0.1295 - learning_rate: 0.0010\n",
      "Epoch 3/150\n",
      "\u001b[1m85/85\u001b[0m \u001b[32m━━━━━━━━━━━━━━━━━━━━\u001b[0m\u001b[37m\u001b[0m \u001b[1m5s\u001b[0m 36ms/step - loss: 0.0165 - mae: 0.0425 - val_loss: 0.0155 - val_mae: 0.0754 - learning_rate: 0.0010\n",
      "Epoch 4/150\n",
      "\u001b[1m85/85\u001b[0m \u001b[32m━━━━━━━━━━━━━━━━━━━━\u001b[0m\u001b[37m\u001b[0m \u001b[1m3s\u001b[0m 33ms/step - loss: 0.0100 - mae: 0.0395 - val_loss: 0.0092 - val_mae: 0.0598 - learning_rate: 0.0010\n",
      "Epoch 5/150\n",
      "\u001b[1m85/85\u001b[0m \u001b[32m━━━━━━━━━━━━━━━━━━━━\u001b[0m\u001b[37m\u001b[0m \u001b[1m3s\u001b[0m 32ms/step - loss: 0.0080 - mae: 0.0461 - val_loss: 0.0145 - val_mae: 0.0965 - learning_rate: 0.0010\n",
      "Epoch 6/150\n",
      "\u001b[1m85/85\u001b[0m \u001b[32m━━━━━━━━━━━━━━━━━━━━\u001b[0m\u001b[37m\u001b[0m \u001b[1m3s\u001b[0m 33ms/step - loss: 0.0053 - mae: 0.0357 - val_loss: 0.0040 - val_mae: 0.0316 - learning_rate: 0.0010\n",
      "Epoch 7/150\n",
      "\u001b[1m85/85\u001b[0m \u001b[32m━━━━━━━━━━━━━━━━━━━━\u001b[0m\u001b[37m\u001b[0m \u001b[1m3s\u001b[0m 32ms/step - loss: 0.0047 - mae: 0.0385 - val_loss: 0.0031 - val_mae: 0.0281 - learning_rate: 0.0010\n",
      "Epoch 8/150\n",
      "\u001b[1m85/85\u001b[0m \u001b[32m━━━━━━━━━━━━━━━━━━━━\u001b[0m\u001b[37m\u001b[0m \u001b[1m3s\u001b[0m 35ms/step - loss: 0.0044 - mae: 0.0383 - val_loss: 0.0032 - val_mae: 0.0369 - learning_rate: 0.0010\n",
      "Epoch 9/150\n",
      "\u001b[1m85/85\u001b[0m \u001b[32m━━━━━━━━━━━━━━━━━━━━\u001b[0m\u001b[37m\u001b[0m \u001b[1m3s\u001b[0m 32ms/step - loss: 0.0036 - mae: 0.0361 - val_loss: 0.0027 - val_mae: 0.0312 - learning_rate: 0.0010\n",
      "Epoch 10/150\n",
      "\u001b[1m85/85\u001b[0m \u001b[32m━━━━━━━━━━━━━━━━━━━━\u001b[0m\u001b[37m\u001b[0m \u001b[1m3s\u001b[0m 32ms/step - loss: 0.0038 - mae: 0.0388 - val_loss: 0.0022 - val_mae: 0.0276 - learning_rate: 0.0010\n",
      "Epoch 11/150\n",
      "\u001b[1m85/85\u001b[0m \u001b[32m━━━━━━━━━━━━━━━━━━━━\u001b[0m\u001b[37m\u001b[0m \u001b[1m3s\u001b[0m 33ms/step - loss: 0.0032 - mae: 0.0368 - val_loss: 0.0090 - val_mae: 0.0812 - learning_rate: 0.0010\n",
      "Epoch 12/150\n",
      "\u001b[1m85/85\u001b[0m \u001b[32m━━━━━━━━━━━━━━━━━━━━\u001b[0m\u001b[37m\u001b[0m \u001b[1m3s\u001b[0m 32ms/step - loss: 0.0027 - mae: 0.0331 - val_loss: 0.0032 - val_mae: 0.0412 - learning_rate: 0.0010\n",
      "Epoch 13/150\n",
      "\u001b[1m85/85\u001b[0m \u001b[32m━━━━━━━━━━━━━━━━━━━━\u001b[0m\u001b[37m\u001b[0m \u001b[1m3s\u001b[0m 31ms/step - loss: 0.0027 - mae: 0.0343 - val_loss: 0.0056 - val_mae: 0.0641 - learning_rate: 0.0010\n",
      "Epoch 14/150\n",
      "\u001b[1m85/85\u001b[0m \u001b[32m━━━━━━━━━━━━━━━━━━━━\u001b[0m\u001b[37m\u001b[0m \u001b[1m3s\u001b[0m 31ms/step - loss: 0.0041 - mae: 0.0427 - val_loss: 0.0015 - val_mae: 0.0243 - learning_rate: 0.0010\n",
      "Epoch 15/150\n",
      "\u001b[1m85/85\u001b[0m \u001b[32m━━━━━━━━━━━━━━━━━━━━\u001b[0m\u001b[37m\u001b[0m \u001b[1m3s\u001b[0m 32ms/step - loss: 0.0025 - mae: 0.0331 - val_loss: 0.0212 - val_mae: 0.1375 - learning_rate: 0.0010\n",
      "Epoch 16/150\n",
      "\u001b[1m85/85\u001b[0m \u001b[32m━━━━━━━━━━━━━━━━━━━━\u001b[0m\u001b[37m\u001b[0m \u001b[1m3s\u001b[0m 31ms/step - loss: 0.0030 - mae: 0.0372 - val_loss: 0.0258 - val_mae: 0.1531 - learning_rate: 0.0010\n",
      "Epoch 17/150\n",
      "\u001b[1m85/85\u001b[0m \u001b[32m━━━━━━━━━━━━━━━━━━━━\u001b[0m\u001b[37m\u001b[0m \u001b[1m3s\u001b[0m 34ms/step - loss: 0.0028 - mae: 0.0362 - val_loss: 0.0059 - val_mae: 0.0634 - learning_rate: 0.0010\n",
      "Epoch 18/150\n",
      "\u001b[1m85/85\u001b[0m \u001b[32m━━━━━━━━━━━━━━━━━━━━\u001b[0m\u001b[37m\u001b[0m \u001b[1m3s\u001b[0m 31ms/step - loss: 0.0026 - mae: 0.0351 - val_loss: 0.0016 - val_mae: 0.0259 - learning_rate: 0.0010\n",
      "Epoch 19/150\n",
      "\u001b[1m85/85\u001b[0m \u001b[32m━━━━━━━━━━━━━━━━━━━━\u001b[0m\u001b[37m\u001b[0m \u001b[1m3s\u001b[0m 31ms/step - loss: 0.0026 - mae: 0.0360 - val_loss: 0.0023 - val_mae: 0.0360 - learning_rate: 0.0010\n",
      "Epoch 20/150\n",
      "\u001b[1m85/85\u001b[0m \u001b[32m━━━━━━━━━━━━━━━━━━━━\u001b[0m\u001b[37m\u001b[0m \u001b[1m3s\u001b[0m 31ms/step - loss: 0.0023 - mae: 0.0327 - val_loss: 0.0048 - val_mae: 0.0584 - learning_rate: 5.0000e-04\n",
      "Epoch 21/150\n",
      "\u001b[1m85/85\u001b[0m \u001b[32m━━━━━━━━━━━━━━━━━━━━\u001b[0m\u001b[37m\u001b[0m \u001b[1m3s\u001b[0m 31ms/step - loss: 0.0021 - mae: 0.0313 - val_loss: 0.0045 - val_mae: 0.0550 - learning_rate: 5.0000e-04\n",
      "Epoch 22/150\n",
      "\u001b[1m85/85\u001b[0m \u001b[32m━━━━━━━━━━━━━━━━━━━━\u001b[0m\u001b[37m\u001b[0m \u001b[1m3s\u001b[0m 32ms/step - loss: 0.0022 - mae: 0.0320 - val_loss: 0.0034 - val_mae: 0.0466 - learning_rate: 5.0000e-04\n",
      "Epoch 23/150\n",
      "\u001b[1m85/85\u001b[0m \u001b[32m━━━━━━━━━━━━━━━━━━━━\u001b[0m\u001b[37m\u001b[0m \u001b[1m3s\u001b[0m 34ms/step - loss: 0.0020 - mae: 0.0298 - val_loss: 0.0017 - val_mae: 0.0291 - learning_rate: 5.0000e-04\n",
      "Epoch 24/150\n",
      "\u001b[1m85/85\u001b[0m \u001b[32m━━━━━━━━━━━━━━━━━━━━\u001b[0m\u001b[37m\u001b[0m \u001b[1m3s\u001b[0m 31ms/step - loss: 0.0021 - mae: 0.0317 - val_loss: 0.0020 - val_mae: 0.0334 - learning_rate: 5.0000e-04\n",
      "Epoch 25/150\n",
      "\u001b[1m85/85\u001b[0m \u001b[32m━━━━━━━━━━━━━━━━━━━━\u001b[0m\u001b[37m\u001b[0m \u001b[1m3s\u001b[0m 32ms/step - loss: 0.0019 - mae: 0.0300 - val_loss: 0.0034 - val_mae: 0.0478 - learning_rate: 2.5000e-04\n",
      "Epoch 26/150\n",
      "\u001b[1m85/85\u001b[0m \u001b[32m━━━━━━━━━━━━━━━━━━━━\u001b[0m\u001b[37m\u001b[0m \u001b[1m3s\u001b[0m 32ms/step - loss: 0.0020 - mae: 0.0305 - val_loss: 0.0065 - val_mae: 0.0717 - learning_rate: 2.5000e-04\n",
      "Epoch 27/150\n",
      "\u001b[1m85/85\u001b[0m \u001b[32m━━━━━━━━━━━━━━━━━━━━\u001b[0m\u001b[37m\u001b[0m \u001b[1m3s\u001b[0m 31ms/step - loss: 0.0019 - mae: 0.0302 - val_loss: 0.0046 - val_mae: 0.0575 - learning_rate: 2.5000e-04\n",
      "Epoch 28/150\n",
      "\u001b[1m85/85\u001b[0m \u001b[32m━━━━━━━━━━━━━━━━━━━━\u001b[0m\u001b[37m\u001b[0m \u001b[1m3s\u001b[0m 32ms/step - loss: 0.0018 - mae: 0.0292 - val_loss: 0.0078 - val_mae: 0.0799 - learning_rate: 2.5000e-04\n",
      "Epoch 29/150\n",
      "\u001b[1m85/85\u001b[0m \u001b[32m━━━━━━━━━━━━━━━━━━━━\u001b[0m\u001b[37m\u001b[0m \u001b[1m3s\u001b[0m 33ms/step - loss: 0.0018 - mae: 0.0294 - val_loss: 0.0076 - val_mae: 0.0797 - learning_rate: 2.5000e-04\n",
      "Epoch 30/150\n",
      "\u001b[1m85/85\u001b[0m \u001b[32m━━━━━━━━━━━━━━━━━━━━\u001b[0m\u001b[37m\u001b[0m \u001b[1m3s\u001b[0m 33ms/step - loss: 0.0018 - mae: 0.0300 - val_loss: 0.0024 - val_mae: 0.0384 - learning_rate: 1.2500e-04\n",
      "Epoch 31/150\n",
      "\u001b[1m85/85\u001b[0m \u001b[32m━━━━━━━━━━━━━━━━━━━━\u001b[0m\u001b[37m\u001b[0m \u001b[1m3s\u001b[0m 32ms/step - loss: 0.0017 - mae: 0.0291 - val_loss: 0.0040 - val_mae: 0.0539 - learning_rate: 1.2500e-04\n",
      "Epoch 32/150\n",
      "\u001b[1m85/85\u001b[0m \u001b[32m━━━━━━━━━━━━━━━━━━━━\u001b[0m\u001b[37m\u001b[0m \u001b[1m3s\u001b[0m 33ms/step - loss: 0.0018 - mae: 0.0287 - val_loss: 0.0057 - val_mae: 0.0665 - learning_rate: 1.2500e-04\n",
      "Epoch 33/150\n",
      "\u001b[1m85/85\u001b[0m \u001b[32m━━━━━━━━━━━━━━━━━━━━\u001b[0m\u001b[37m\u001b[0m \u001b[1m3s\u001b[0m 32ms/step - loss: 0.0018 - mae: 0.0298 - val_loss: 0.0036 - val_mae: 0.0497 - learning_rate: 1.2500e-04\n",
      "Epoch 34/150\n",
      "\u001b[1m85/85\u001b[0m \u001b[32m━━━━━━━━━━━━━━━━━━━━\u001b[0m\u001b[37m\u001b[0m \u001b[1m3s\u001b[0m 31ms/step - loss: 0.0016 - mae: 0.0273 - val_loss: 0.0078 - val_mae: 0.0796 - learning_rate: 1.2500e-04\n"
     ]
    }
   ],
   "source": [
    "# Train the LSTM model\n",
    "early_stop = EarlyStopping(monitor='val_loss', patience=20, restore_best_weights=True)\n",
    "reduce_lr = ReduceLROnPlateau(monitor='val_loss', factor=0.5, patience=5, min_lr=0.0001)\n",
    "\n",
    "print(\"\\n--- Shapes of Input Data for LSTM ---\")\n",
    "print(f\"X_train_reshaped shape: {X_train_reshaped.shape}\")\n",
    "print(f\"y_train_scaled shape: {y_train_scaled.shape}\")\n",
    "\n",
    "history = lstm_model.fit(\n",
    "    X_train_reshaped,\n",
    "    y_train_scaled,\n",
    "    validation_split=0.2,\n",
    "    epochs=150,\n",
    "    batch_size=32,\n",
    "    callbacks=[early_stop, reduce_lr],\n",
    "    verbose=1\n",
    ")"
   ]
  },
  {
   "cell_type": "code",
   "execution_count": 164,
   "metadata": {},
   "outputs": [
    {
     "data": {
      "image/png": "[encoded data removed]",
      "text/plain": [
       "<Figure size 1200x600 with 1 Axes>"
      ]
     },
     "metadata": {},
     "output_type": "display_data"
    }
   ],
   "source": [
    "# Plot training history\n",
    "plt.figure(figsize=(12, 6))\n",
    "plt.plot(history.history['loss'], label='Training Loss')\n",
    "plt.plot(history.history['val_loss'], label='Validation Loss')\n",
    "plt.title('Improved LSTM Model Training History')\n",
    "plt.xlabel('Epochs')\n",
    "plt.ylabel('Loss')\n",
    "plt.legend()\n",
    "plt.show()"
   ]
  },
  {
   "cell_type": "markdown",
   "metadata": {},
   "source": [
    "# **Making Predictions**\n",
    "\n",
    "---\n",
    "\n",
    "## **Overview**\n",
    "\n",
    "Now that the models are trained, we will use them to make predictions on the test set and evaluate their performance. We will:\n",
    "1. Generate predictions using the **Linear Regression model**.\n",
    "2. Generate predictions using the **LSTM model**.\n",
    "3. Create an **ensemble prediction** by combining the outputs of both models.\n",
    "4. Compare predictions with actual values and calculate error metrics.\n",
    "\n",
    "---\n"
   ]
  },
  {
   "cell_type": "markdown",
   "metadata": {},
   "source": [
    "## Linear Regression Predictions\n",
    "\n",
    "The Linear Regression model predicts stock prices based on linear relationships between features and the target variable. We use the scaled test features to generate predictions, which are then inverse-transformed to their original scale for comparison.\n"
   ]
  },
  {
   "cell_type": "code",
   "execution_count": 165,
   "metadata": {},
   "outputs": [
    {
     "name": "stdout",
     "output_type": "stream",
     "text": [
      "\n",
      "--- Linear Regression Predictions (Sample) ---\n",
      "[[32093.96482743]\n",
      " [32027.04608015]\n",
      " [31852.8677927 ]\n",
      " [31879.0513473 ]\n",
      " [32036.75093217]]\n"
     ]
    }
   ],
   "source": [
    "# Generate predictions from Linear Regression model\n",
    "lr_pred_scaled = lr_model.predict(X_test_scaled)\n",
    "lr_pred = y_scaler.inverse_transform(lr_pred_scaled.reshape(-1, 1))\n",
    "\n",
    "print(\"\\n--- Linear Regression Predictions (Sample) ---\")\n",
    "print(lr_pred[:5])"
   ]
  },
  {
   "cell_type": "markdown",
   "metadata": {},
   "source": [
    "## LSTM Predictions\n",
    "\n",
    "The LSTM model predicts stock prices by capturing complex temporal patterns in sequential data. We use the reshaped test features to generate predictions, which are then inverse-transformed to their original scale for comparison.\n"
   ]
  },
  {
   "cell_type": "code",
   "execution_count": 166,
   "metadata": {},
   "outputs": [
    {
     "name": "stdout",
     "output_type": "stream",
     "text": [
      "\u001b[1m27/27\u001b[0m \u001b[32m━━━━━━━━━━━━━━━━━━━━\u001b[0m\u001b[37m\u001b[0m \u001b[1m2s\u001b[0m 40ms/step\n",
      "\n",
      "--- LSTM Predictions (Sample) ---\n",
      "[[31118.326]\n",
      " [31153.365]\n",
      " [31075.305]\n",
      " [31034.656]\n",
      " [30978.887]]\n"
     ]
    }
   ],
   "source": [
    "# Generate predictions from LSTM model\n",
    "lstm_pred_scaled = lstm_model.predict(X_test_reshaped)\n",
    "lstm_pred = y_scaler.inverse_transform(lstm_pred_scaled)\n",
    "\n",
    "print(\"\\n--- LSTM Predictions (Sample) ---\")\n",
    "print(lstm_pred[:5])"
   ]
  },
  {
   "cell_type": "markdown",
   "metadata": {},
   "source": [
    "## Ensemble Predictions\n",
    "\n",
    "We create an ensemble prediction by combining the outputs of both models. This approach leverages the strengths of both models:\n",
    "- **Linear Regression** provides stable trend-based predictions.\n",
    "- **LSTM** captures complex temporal dependencies.\n",
    "\n",
    "The ensemble prediction is a weighted average of both models' outputs, with weights adjusted based on their performance.\n"
   ]
  },
  {
   "cell_type": "code",
   "execution_count": 167,
   "metadata": {},
   "outputs": [
    {
     "name": "stdout",
     "output_type": "stream",
     "text": [
      "\n",
      "--- Ensemble Predictions (Sample) ---\n",
      "[[31801.27333459]\n",
      " [31764.94235761]\n",
      " [31619.59881015]\n",
      " [31625.7329437 ]\n",
      " [31719.39213606]]\n"
     ]
    }
   ],
   "source": [
    "# Create ensemble prediction (weighted average)\n",
    "ensemble_pred_scaled = 0.7 * lr_pred_scaled.reshape(-1, 1) + 0.3 * lstm_pred_scaled\n",
    "ensemble_pred = y_scaler.inverse_transform(ensemble_pred_scaled)\n",
    "\n",
    "print(\"\\n--- Ensemble Predictions (Sample) ---\")\n",
    "print(ensemble_pred[:5])"
   ]
  },
  {
   "cell_type": "markdown",
   "metadata": {},
   "source": [
    "## Comparing Predictions\n",
    "\n",
    "We compare the actual stock prices with predictions from:\n",
    "1. **Linear Regression Model**\n",
    "2. **LSTM Model**\n",
    "3. **Ensemble Prediction**\n",
    "\n",
    "This allows us to evaluate how well each approach performs on unseen data.\n"
   ]
  },
  {
   "cell_type": "code",
   "execution_count": 168,
   "metadata": {},
   "outputs": [
    {
     "name": "stdout",
     "output_type": "stream",
     "text": [
      "\n",
      "--- Ensemble Predictions (Sample) ---\n",
      "[[31801.27333459]\n",
      " [31764.94235761]\n",
      " [31619.59881015]\n",
      " [31625.7329437 ]\n",
      " [31719.39213606]]\n",
      "\n",
      "--- Sample Predictions Comparison ---\n",
      "         Actual  Linear Regression          LSTM      Ensemble\n",
      "0  32074.779297       32093.964827  31118.326172  31801.273335\n",
      "1  31710.990234       32027.046080  31153.365234  31764.942358\n",
      "2  31955.349609       31852.867793  31075.304688  31619.598810\n",
      "3  31904.400391       31879.051347  31034.656250  31625.732944\n",
      "4  32028.890625       32036.750932  30978.886719  31719.392136\n",
      "5  32245.869141       32010.388813  31007.476562  31709.515430\n",
      "6  32228.269531       32211.810356  31095.242188  31876.840389\n",
      "7  32382.460938       32251.600061  31437.027344  32007.228766\n",
      "8  32383.300781       32274.070675  31491.423828  32039.276862\n",
      "9  32309.880859       32405.180274  31287.568359  32069.897013\n"
     ]
    }
   ],
   "source": [
    "# Display sample predictions\n",
    "print(\"\\n--- Ensemble Predictions (Sample) ---\")\n",
    "print(ensemble_pred[:5])\n",
    "\n",
    "# Display sample comparisons\n",
    "comparison_df = pd.DataFrame({\n",
    "    'Actual': y_test.values[:10].reshape(-1),\n",
    "    'Linear Regression': lr_pred[:10].reshape(-1),\n",
    "    'LSTM': lstm_pred[:10].reshape(-1),\n",
    "    'Ensemble': ensemble_pred[:10].reshape(-1)\n",
    "})\n",
    "print(\"\\n--- Sample Predictions Comparison ---\")\n",
    "print(comparison_df)"
   ]
  },
  {
   "cell_type": "markdown",
   "metadata": {},
   "source": [
    "## Calculating Error Metrics\n",
    "\n",
    "To evaluate model performance, we calculate:\n",
    "- **Mean Absolute Error (MAE)**: Average absolute difference between actual and predicted values.\n",
    "- **Root Mean Squared Error (RMSE)**: Square root of average squared differences between actual and predicted values.\n",
    "\n",
    "These metrics help quantify prediction accuracy for each approach.\n"
   ]
  },
  {
   "cell_type": "code",
   "execution_count": 169,
   "metadata": {},
   "outputs": [
    {
     "name": "stdout",
     "output_type": "stream",
     "text": [
      "\n",
      "--- Error Metrics ---\n",
      "Linear Regression - MAE: 323.21, RMSE: 484.72\n",
      "LSTM - MAE: 2861.64, RMSE: 3276.44\n",
      "Ensemble - MAE: 920.70, RMSE: 1092.83\n"
     ]
    }
   ],
   "source": [
    "# Calculate error metrics for each approach\n",
    "print(\"\\n--- Error Metrics ---\")\n",
    "\n",
    "mae_lr = metrics.mean_absolute_error(y_test.values, lr_pred)\n",
    "rmse_lr = np.sqrt(metrics.mean_squared_error(y_test.values, lr_pred))\n",
    "print(f\"Linear Regression - MAE: {mae_lr:.2f}, RMSE: {rmse_lr:.2f}\")\n",
    "\n",
    "mae_lstm = metrics.mean_absolute_error(y_test.values, lstm_pred)\n",
    "rmse_lstm = np.sqrt(metrics.mean_squared_error(y_test.values, lstm_pred))\n",
    "print(f\"LSTM - MAE: {mae_lstm:.2f}, RMSE: {rmse_lstm:.2f}\")\n",
    "\n",
    "mae_ensemble = metrics.mean_absolute_error(y_test.values, ensemble_pred)\n",
    "rmse_ensemble = np.sqrt(metrics.mean_squared_error(y_test.values, ensemble_pred))\n",
    "print(f\"Ensemble - MAE: {mae_ensemble:.2f}, RMSE: {rmse_ensemble:.2f}\")\n"
   ]
  },
  {
   "cell_type": "markdown",
   "metadata": {},
   "source": [
    "# **Model Evaluation**\n",
    "\n",
    "---\n",
    "\n",
    "## **Overview**\n",
    "\n",
    "In this step, we evaluate the performance of our models (Linear Regression, LSTM, and Ensemble) using various metrics:\n",
    "1. **Mean Squared Error (MSE)**: Measures the average squared difference between actual and predicted values.\n",
    "2. **Root Mean Squared Error (RMSE)**: Square root of MSE, providing error in the same units as the target variable.\n",
    "3. **Mean Absolute Error (MAE)**: Measures the average absolute difference between actual and predicted values.\n",
    "4. **Mean Absolute Percentage Error (MAPE)**: Measures the percentage error between actual and predicted values.\n",
    "5. **R² Score**: Indicates how well the model explains variance in the data.\n",
    "\n",
    "We will also visualize the predictions against actual stock prices for better interpretability.\n",
    "\n",
    "---\n",
    "\n"
   ]
  },
  {
   "cell_type": "markdown",
   "metadata": {},
   "source": [
    "## Evaluating Models Using Metrics\n",
    "\n",
    "We calculate the following metrics for each model:\n",
    "- **Mean Squared Error (MSE)**\n",
    "- **Root Mean Squared Error (RMSE)**\n",
    "- **Mean Absolute Error (MAE)**\n",
    "- **Mean Absolute Percentage Error (MAPE)**\n",
    "- **R² Score**\n",
    "\n",
    "These metrics provide a comprehensive view of model performance.\n"
   ]
  },
  {
   "cell_type": "code",
   "execution_count": 170,
   "metadata": {},
   "outputs": [
    {
     "name": "stdout",
     "output_type": "stream",
     "text": [
      "\n",
      "--- Model Evaluation Results ---\n",
      "\n",
      "Linear Model:\n",
      "MSE: 234953.6350\n",
      "RMSE: 484.7202\n",
      "MAE: 323.2133\n",
      "MAPE: 0.9068\n",
      "R²: 0.9805\n",
      "\n",
      "LSTM Model:\n",
      "MSE: 10735069.1984\n",
      "RMSE: 3276.4415\n",
      "MAE: 2861.6417\n",
      "MAPE: 7.5099\n",
      "R²: 0.1100\n",
      "\n",
      "Ensemble Model:\n",
      "MSE: 1194268.3846\n",
      "RMSE: 1092.8259\n",
      "MAE: 920.7000\n",
      "MAPE: 2.4408\n",
      "R²: 0.9010\n"
     ]
    }
   ],
   "source": [
    "# Evaluate models using metrics like RMSE, MAE, and R²\n",
    "def evaluate_models(y_test, lr_pred, lstm_pred, ensemble_pred):\n",
    "    # Convert y_test to numpy array if it's a pandas Series\n",
    "    if hasattr(y_test, 'values'):\n",
    "        test_actual = y_test.values.reshape(-1, 1)\n",
    "    else:\n",
    "        test_actual = y_test.reshape(-1, 1)\n",
    "\n",
    "    # Calculate metrics for each approach\n",
    "    results = {}\n",
    "    for name, predictions in [\n",
    "        (\"Linear Model\", lr_pred),\n",
    "        (\"LSTM Model\", lstm_pred),\n",
    "        (\"Ensemble Model\", ensemble_pred)\n",
    "    ]:\n",
    "        mse = metrics.mean_squared_error(test_actual, predictions)\n",
    "        rmse = np.sqrt(mse)\n",
    "        mae = metrics.mean_absolute_error(test_actual, predictions)\n",
    "        mape = np.mean(np.abs((test_actual - predictions) / test_actual)) * 100\n",
    "        r2 = metrics.r2_score(test_actual, predictions)\n",
    "\n",
    "        results[name] = {\n",
    "            \"MSE\": mse,\n",
    "            \"RMSE\": rmse,\n",
    "            \"MAE\": mae,\n",
    "            \"MAPE\": mape,\n",
    "            \"R²\": r2\n",
    "        }\n",
    "\n",
    "    return results\n",
    "\n",
    "# Evaluate models (using y_test from data_tuple[9])\n",
    "results = evaluate_models(data_tuple[9], lr_pred, lstm_pred, ensemble_pred)\n",
    "\n",
    "print(\"\\n--- Model Evaluation Results ---\")\n",
    "for model_name, met in results.items():\n",
    "    print(f\"\\n{model_name}:\")\n",
    "    for metric_name, value in met.items():\n",
    "        print(f\"{metric_name}: {value:.4f}\")"
   ]
  },
  {
   "cell_type": "markdown",
   "metadata": {},
   "source": [
    "## Visualizing Predictions\n",
    "\n",
    "We plot the actual stock prices against predictions from:\n",
    "1. Linear Regression Model\n",
    "2. LSTM Model\n",
    "3. Ensemble Prediction\n",
    "\n",
    "This helps us visually compare the accuracy of each model.\n"
   ]
  },
  {
   "cell_type": "code",
   "execution_count": 171,
   "metadata": {},
   "outputs": [
    {
     "data": {
      "image/png": "[encoded data removed]",
      "text/plain": [
       "<Figure size 1500x600 with 1 Axes>"
      ]
     },
     "metadata": {},
     "output_type": "display_data"
    }
   ],
   "source": [
    "# Plot actual vs predicted prices (Original Ensemble)\n",
    "plt.figure(figsize=(15, 6))\n",
    "plt.plot(y_test.values, label='Actual Prices', color='blue', alpha=0.7)\n",
    "plt.plot(lr_pred.reshape(-1), label='Linear Regression Predictions', color='green', alpha=0.7)\n",
    "plt.plot(lstm_pred.reshape(-1), label='LSTM Predictions', color='orange', alpha=0.7)\n",
    "plt.plot(ensemble_pred.reshape(-1), label='Ensemble Predictions', color='red', alpha=0.7)\n",
    "plt.title('Stock Price Predictions vs Actual Prices')\n",
    "plt.xlabel('Time Steps')\n",
    "plt.ylabel('Price')\n",
    "plt.legend()\n",
    "plt.show()"
   ]
  },
  {
   "cell_type": "code",
   "execution_count": 172,
   "metadata": {},
   "outputs": [
    {
     "name": "stdout",
     "output_type": "stream",
     "text": [
      "\n",
      "--- Training Stacking Hybrid Model ---\n",
      "\u001b[1m 94/107\u001b[0m \u001b[32m━━━━━━━━━━━━━━━━━\u001b[0m\u001b[37m━━━\u001b[0m \u001b[1m0s\u001b[0m 12ms/step"
     ]
    },
    {
     "name": "stdout",
     "output_type": "stream",
     "text": [
      "\u001b[1m107/107\u001b[0m \u001b[32m━━━━━━━━━━━━━━━━━━━━\u001b[0m\u001b[37m\u001b[0m \u001b[1m1s\u001b[0m 13ms/step\n",
      "\u001b[1m27/27\u001b[0m \u001b[32m━━━━━━━━━━━━━━━━━━━━\u001b[0m\u001b[37m\u001b[0m \u001b[1m0s\u001b[0m 13ms/step\n",
      "\n",
      "--- Stacking Hybrid Model Predictions (Sample) ---\n",
      "[[32073.21813067]\n",
      " [32008.75862913]\n",
      " [31836.86754586]\n",
      " [31861.43413545]\n",
      " [32013.98973339]]\n"
     ]
    },
    {
     "data": {
      "image/png": "[encoded data removed]",
      "text/plain": [
       "<Figure size 1500x600 with 1 Axes>"
      ]
     },
     "metadata": {},
     "output_type": "display_data"
    }
   ],
   "source": [
    "# ----------------------- Additional Hybrid Model (Stacking Ensemble) -----------------------\n",
    "print(\"\\n--- Training Stacking Hybrid Model ---\")\n",
    "# Generate predictions on training data for stacking\n",
    "lr_pred_train_scaled = lr_model.predict(X_train_scaled)\n",
    "lstm_pred_train_scaled = lstm_model.predict(X_train_reshaped)\n",
    "# Inverse transform to get original scale\n",
    "lr_pred_train = y_scaler.inverse_transform(lr_pred_train_scaled.reshape(-1,1))\n",
    "lstm_pred_train = y_scaler.inverse_transform(lstm_pred_train_scaled)\n",
    "\n",
    "# Stack predictions as features for training meta model\n",
    "stacked_train = np.hstack((lr_pred_train, lstm_pred_train))\n",
    "\n",
    "# Train meta learner (using Linear Regression as a meta-model)\n",
    "meta_model = LinearRegression()\n",
    "meta_model.fit(stacked_train, y_train.values.reshape(-1,1))\n",
    "\n",
    "# Generate predictions on test data for stacking\n",
    "lr_pred_test_scaled = lr_model.predict(X_test_scaled)\n",
    "lstm_pred_test_scaled = lstm_model.predict(X_test_reshaped)\n",
    "lr_pred_test = y_scaler.inverse_transform(lr_pred_test_scaled.reshape(-1,1))\n",
    "lstm_pred_test = y_scaler.inverse_transform(lstm_pred_test_scaled)\n",
    "stacked_test = np.hstack((lr_pred_test, lstm_pred_test))\n",
    "hybrid2_pred = meta_model.predict(stacked_test)\n",
    "\n",
    "# Display sample predictions for stacking ensemble\n",
    "print(\"\\n--- Stacking Hybrid Model Predictions (Sample) ---\")\n",
    "print(hybrid2_pred[:5])\n",
    "\n",
    "# Plot actual vs predicted prices for stacking hybrid model\n",
    "plt.figure(figsize=(15, 6))\n",
    "plt.plot(y_test.values, label='Actual Prices', color='blue', alpha=0.7)\n",
    "plt.plot(hybrid2_pred.reshape(-1), label='Stacking Hybrid Model Predictions', color='purple', alpha=0.7)\n",
    "plt.title('Stacking Hybrid Model Predictions vs Actual Prices')\n",
    "plt.xlabel('Time Steps')\n",
    "plt.ylabel('Price')\n",
    "plt.legend()\n",
    "plt.show()"
   ]
  }
 ],
 "metadata": {
  "colab": {
   "provenance": []
  },
  "kernelspec": {
   "display_name": "Python 3",
   "name": "python3"
  },
  "language_info": {
   "codemirror_mode": {
    "name": "ipython",
    "version": 3
   },
   "file_extension": ".py",
   "mimetype": "text/x-python",
   "name": "python",
   "nbconvert_exporter": "python",
   "pygments_lexer": "ipython3",
   "version": "3.11.9"
  }
 },
 "nbformat": 4,
 "nbformat_minor": 0
}
